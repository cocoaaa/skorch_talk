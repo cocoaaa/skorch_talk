{
 "cells": [
  {
   "cell_type": "markdown",
   "metadata": {},
   "source": [
    "# Part 1 - MNIST\n",
    "\n",
    "<table align=\"left\"><td>\n",
    "<a target=\"_blank\" href=\"https://colab.research.google.com/github/thomasjpfan/skorch_talk/blob/master/part_1_mnist.ipynb\">\n",
    "    <img src=\"https://www.tensorflow.org/images/colab_logo_32px.png\" />Run in Google Colab</a>  \n",
    "</td><td>\n",
    "<a target=\"_blank\" href=\"https://github.com/thomasjpfan/skorch_talk/blob/master/part_1_mnist.ipynb\"><img width=32px src=\"https://www.tensorflow.org/images/GitHub-Mark-32px.png\" />View source on GitHub</a></td></table>"
   ]
  },
  {
   "cell_type": "markdown",
   "metadata": {},
   "source": [
    "**Note**: If you are running this in [a colab notebook](https://colab.research.google.com/github/thomasjpfan/skorch_talk/blob/master/part_1_mnist.ipynb), we recommend you enable a free GPU by going:\n",
    "\n",
    "> **Runtime**   →   **Change runtime type**   →   **Hardware Accelerator: GPU**\n",
    "\n",
    "If you are running in colab, you should install the dependencies and download the dataset by running the following cell:"
   ]
  },
  {
   "cell_type": "code",
   "execution_count": 11,
   "metadata": {},
   "outputs": [],
   "source": [
    "! [ ! -z \"$COLAB_GPU\" ] && pip install scikit-learn==0.21.* skorch"
   ]
  },
  {
   "cell_type": "markdown",
   "metadata": {
    "toc-hr-collapsed": false
   },
   "source": [
    "## Explore data"
   ]
  },
  {
   "cell_type": "code",
   "execution_count": 1,
   "metadata": {},
   "outputs": [],
   "source": [
    "%matplotlib inline\n",
    "\n",
    "import numpy as np\n",
    "import matplotlib.pyplot as plt\n",
    "from pathlib import Path\n",
    "from urllib import request"
   ]
  },
  {
   "cell_type": "code",
   "execution_count": 2,
   "metadata": {},
   "outputs": [
    {
     "name": "stdout",
     "output_type": "stream",
     "text": [
      "Data has been downloaded to data.\n"
     ]
    }
   ],
   "source": [
    "def download_mnist(dataset_dir=Path('data')):\n",
    "    dataset_dir.mkdir(exist_ok=True)\n",
    "    mnist_data = dataset_dir / 'mnist.npz'\n",
    "    url = 'https://github.com/thomasjpfan/pydata2018_dc_skorch/blob/master/data/mnist.npz?raw=true'\n",
    "    if not mnist_data.exists():\n",
    "        print(\"Starting to download data...\")\n",
    "        data = request.urlopen(url, timeout=15).read()\n",
    "        with open(mnist_data, 'wb') as f:\n",
    "            f.write(data)\n",
    "    print(\"Data has been downloaded to {}.\".format(dataset_dir))\n",
    "    \n",
    "download_mnist()"
   ]
  },
  {
   "cell_type": "code",
   "execution_count": 3,
   "metadata": {},
   "outputs": [],
   "source": [
    "mnist = np.load('data/mnist.npz', allow_pickle=True)"
   ]
  },
  {
   "cell_type": "code",
   "execution_count": 4,
   "metadata": {},
   "outputs": [
    {
     "name": "stdout",
     "output_type": "stream",
     "text": [
      "(70000, 784) (70000,)\n"
     ]
    }
   ],
   "source": [
    "X = mnist['data'].astype('float32')\n",
    "y = mnist['target'].astype('int64')\n",
    "\n",
    "print(X.shape, y.shape)"
   ]
  },
  {
   "cell_type": "code",
   "execution_count": 5,
   "metadata": {},
   "outputs": [
    {
     "data": {
      "image/png": "[encoded data removed]",
      "text/plain": [
       "<Figure size 720x288 with 10 Axes>"
      ]
     },
     "metadata": {},
     "output_type": "display_data"
    }
   ],
   "source": [
    "fig, axes = plt.subplots(2, 5, figsize=(10, 4))\n",
    "fig.patch.set_alpha(0)\n",
    "for idx, ax in enumerate(axes.flatten()):\n",
    "    ax.imshow(X[idx].reshape(28, 28), cmap='gray')\n",
    "    ax.set_title(y[idx], fontsize=20)\n",
    "    ax.set_xticks([])\n",
    "    ax.set_yticks([])\n",
    "fig.tight_layout()\n",
    "fig.savefig('images/mnist_example.png')"
   ]
  },
  {
   "cell_type": "markdown",
   "metadata": {},
   "source": [
    "## Simple Neutral Model"
   ]
  },
  {
   "cell_type": "code",
   "execution_count": 6,
   "metadata": {},
   "outputs": [],
   "source": [
    "import torch.nn as nn\n",
    "\n",
    "class SimpleFeedforward(nn.Module):\n",
    "    def __init__(self, dropout=0.5):\n",
    "        super().__init__()\n",
    "        self.module = nn.Sequential(\n",
    "            nn.Linear(784, 98),\n",
    "            nn.ReLU(inplace=True),\n",
    "            nn.Dropout(dropout),\n",
    "            nn.Linear(98, 10)\n",
    "        )\n",
    "    def forward(self, X):\n",
    "        return self.module(X)"
   ]
  },
  {
   "cell_type": "code",
   "execution_count": 7,
   "metadata": {},
   "outputs": [],
   "source": [
    "from sklearn.model_selection import train_test_split\n",
    "\n",
    "X_scaled = X / X.max()\n",
    "\n",
    "X_train, X_test, y_train, y_test = train_test_split(\n",
    "    X_scaled, y, test_size=0.25, random_state=42)"
   ]
  },
  {
   "cell_type": "code",
   "execution_count": 8,
   "metadata": {},
   "outputs": [],
   "source": [
    "from skorch import NeuralNet\n",
    "\n",
    "net = NeuralNet(\n",
    "    SimpleFeedforward,\n",
    "    criterion=nn.CrossEntropyLoss,\n",
    "    max_epochs=10,\n",
    "    lr=0.3,\n",
    "    device='cuda', # comment out to run on cpu\n",
    ")"
   ]
  },
  {
   "cell_type": "code",
   "execution_count": 9,
   "metadata": {},
   "outputs": [
    {
     "name": "stdout",
     "output_type": "stream",
     "text": [
      "  epoch    train_loss    valid_loss     dur\n",
      "-------  ------------  ------------  ------\n",
      "      1        \u001b[36m0.5761\u001b[0m        \u001b[32m0.3123\u001b[0m  0.9996\n",
      "      2        \u001b[36m0.3196\u001b[0m        \u001b[32m0.2344\u001b[0m  0.9697\n",
      "      3        \u001b[36m0.2647\u001b[0m        \u001b[32m0.1972\u001b[0m  0.9876\n",
      "      4        \u001b[36m0.2389\u001b[0m        0.2024  0.9934\n",
      "      5        \u001b[36m0.2195\u001b[0m        0.2008  0.9707\n",
      "      6        \u001b[36m0.2072\u001b[0m        \u001b[32m0.1413\u001b[0m  0.9703\n",
      "      7        \u001b[36m0.1940\u001b[0m        \u001b[32m0.1339\u001b[0m  0.9606\n",
      "      8        \u001b[36m0.1831\u001b[0m        \u001b[32m0.1229\u001b[0m  0.9561\n",
      "      9        \u001b[36m0.1777\u001b[0m        0.1286  0.9517\n",
      "     10        \u001b[36m0.1709\u001b[0m        \u001b[32m0.1175\u001b[0m  0.9466\n"
     ]
    }
   ],
   "source": [
    "_ = net.fit(X_train, y_train)"
   ]
  },
  {
   "cell_type": "code",
   "execution_count": 10,
   "metadata": {},
   "outputs": [
    {
     "name": "stdout",
     "output_type": "stream",
     "text": [
      "     11        \u001b[36m0.1665\u001b[0m        \u001b[32m0.1163\u001b[0m  0.9129\n",
      "     12        \u001b[36m0.1596\u001b[0m        \u001b[32m0.1118\u001b[0m  0.9725\n",
      "     13        \u001b[36m0.1563\u001b[0m        \u001b[32m0.1092\u001b[0m  0.9247\n",
      "     14        \u001b[36m0.1503\u001b[0m        0.1118  0.9273\n",
      "     15        \u001b[36m0.1481\u001b[0m        0.1113  0.9192\n"
     ]
    }
   ],
   "source": [
    "net.set_params(max_epochs=5)\n",
    "_ = net.partial_fit(X_train, y_train)"
   ]
  },
  {
   "cell_type": "markdown",
   "metadata": {},
   "source": [
    "## History"
   ]
  },
  {
   "cell_type": "code",
   "execution_count": 10,
   "metadata": {},
   "outputs": [
    {
     "data": {
      "text/plain": [
       "15"
      ]
     },
     "execution_count": 10,
     "metadata": {},
     "output_type": "execute_result"
    }
   ],
   "source": [
    "len(net.history)"
   ]
  },
  {
   "cell_type": "code",
   "execution_count": 11,
   "metadata": {},
   "outputs": [
    {
     "data": {
      "text/plain": [
       "0.12197566009703137"
      ]
     },
     "execution_count": 11,
     "metadata": {},
     "output_type": "execute_result"
    }
   ],
   "source": [
    "net.history[-1, 'valid_loss']"
   ]
  },
  {
   "cell_type": "code",
   "execution_count": 12,
   "metadata": {},
   "outputs": [
    {
     "data": {
      "text/plain": [
       "[0.15320565857206073, 0.15345378470420837]"
      ]
     },
     "execution_count": 12,
     "metadata": {},
     "output_type": "execute_result"
    }
   ],
   "source": [
    "net.history[-2:, 'train_loss']"
   ]
  },
  {
   "cell_type": "markdown",
   "metadata": {},
   "source": [
    "## Callbacks"
   ]
  },
  {
   "cell_type": "markdown",
   "metadata": {},
   "source": [
    "### EpochScoring"
   ]
  },
  {
   "cell_type": "code",
   "execution_count": 13,
   "metadata": {},
   "outputs": [
    {
     "name": "stdout",
     "output_type": "stream",
     "text": [
      "(17500, 10)\n",
      "[ -3.7149053   -3.4425774    4.2277       6.454636   -11.068788\n",
      "   2.8243313   -4.5492096   -2.9567776   11.11874     -0.02089611]\n"
     ]
    }
   ],
   "source": [
    "y_pred = net.predict(X_test)\n",
    "print(y_pred.shape)\n",
    "print(y_pred[0, :])"
   ]
  },
  {
   "cell_type": "code",
   "execution_count": 14,
   "metadata": {},
   "outputs": [
    {
     "name": "stdout",
     "output_type": "stream",
     "text": [
      "test accuracy: 0.9633142857142857\n"
     ]
    }
   ],
   "source": [
    "def accuracy_argmax(y_true, y_pred):\n",
    "    return np.mean(y_true == np.argmax(y_pred, -1))\n",
    "\n",
    "print('test accuracy:', accuracy_argmax(y_test, y_pred))"
   ]
  },
  {
   "cell_type": "code",
   "execution_count": 15,
   "metadata": {},
   "outputs": [],
   "source": [
    "from sklearn.metrics import make_scorer\n",
    "from skorch.callbacks import EpochScoring\n",
    "\n",
    "accuracy_argmax_scorer = make_scorer(accuracy_argmax)\n",
    "\n",
    "epoch_acc = EpochScoring(\n",
    "    accuracy_argmax_scorer,\n",
    "    name='valid_acc',\n",
    "    lower_is_better=False)"
   ]
  },
  {
   "cell_type": "code",
   "execution_count": 16,
   "metadata": {},
   "outputs": [],
   "source": [
    "net = NeuralNet(\n",
    "    SimpleFeedforward,\n",
    "    criterion=nn.CrossEntropyLoss,\n",
    "    max_epochs=10,\n",
    "    lr=0.3,\n",
    "#     device='cuda',\n",
    "    callbacks=[epoch_acc]\n",
    ")"
   ]
  },
  {
   "cell_type": "code",
   "execution_count": 17,
   "metadata": {},
   "outputs": [
    {
     "name": "stdout",
     "output_type": "stream",
     "text": [
      "  epoch    train_loss    valid_acc    valid_loss     dur\n",
      "-------  ------------  -----------  ------------  ------\n",
      "      1        \u001b[36m0.5808\u001b[0m       \u001b[32m0.9040\u001b[0m        \u001b[35m0.3144\u001b[0m  0.9474\n",
      "      2        \u001b[36m0.3254\u001b[0m       \u001b[32m0.9222\u001b[0m        \u001b[35m0.2463\u001b[0m  0.8968\n",
      "      3        \u001b[36m0.2712\u001b[0m       \u001b[32m0.9461\u001b[0m        \u001b[35m0.1809\u001b[0m  0.9257\n",
      "      4        \u001b[36m0.2420\u001b[0m       \u001b[32m0.9487\u001b[0m        \u001b[35m0.1680\u001b[0m  0.8892\n",
      "      5        \u001b[36m0.2228\u001b[0m       \u001b[32m0.9541\u001b[0m        \u001b[35m0.1490\u001b[0m  0.8933\n",
      "      6        \u001b[36m0.2074\u001b[0m       \u001b[32m0.9542\u001b[0m        0.1514  0.9008\n",
      "      7        \u001b[36m0.1930\u001b[0m       \u001b[32m0.9596\u001b[0m        \u001b[35m0.1358\u001b[0m  0.9133\n",
      "      8        \u001b[36m0.1868\u001b[0m       \u001b[32m0.9597\u001b[0m        \u001b[35m0.1324\u001b[0m  0.8976\n",
      "      9        \u001b[36m0.1775\u001b[0m       \u001b[32m0.9604\u001b[0m        \u001b[35m0.1298\u001b[0m  0.8981\n",
      "     10        \u001b[36m0.1712\u001b[0m       0.9593        0.1324  0.9096\n"
     ]
    }
   ],
   "source": [
    "_ = net.fit(X_train, y_train)"
   ]
  },
  {
   "cell_type": "markdown",
   "metadata": {},
   "source": [
    "## Integration with sklearn"
   ]
  },
  {
   "cell_type": "code",
   "execution_count": 18,
   "metadata": {},
   "outputs": [],
   "source": [
    "from sklearn.pipeline import Pipeline\n",
    "from sklearn.preprocessing import MinMaxScaler"
   ]
  },
  {
   "cell_type": "code",
   "execution_count": 19,
   "metadata": {},
   "outputs": [],
   "source": [
    "pipe = Pipeline([\n",
    "    ('min_max', MinMaxScaler()),\n",
    "    ('net', net)\n",
    "])"
   ]
  },
  {
   "cell_type": "code",
   "execution_count": 20,
   "metadata": {},
   "outputs": [
    {
     "name": "stdout",
     "output_type": "stream",
     "text": [
      "Re-initializing module.\n",
      "Re-initializing optimizer.\n",
      "  epoch    train_loss    valid_acc    valid_loss     dur\n",
      "-------  ------------  -----------  ------------  ------\n",
      "      1        \u001b[36m0.5701\u001b[0m       \u001b[32m0.8763\u001b[0m        \u001b[35m0.3773\u001b[0m  0.9347\n",
      "      2        \u001b[36m0.3182\u001b[0m       \u001b[32m0.9314\u001b[0m        \u001b[35m0.2214\u001b[0m  0.9780\n",
      "      3        \u001b[36m0.2637\u001b[0m       \u001b[32m0.9391\u001b[0m        \u001b[35m0.1967\u001b[0m  0.9734\n",
      "      4        \u001b[36m0.2357\u001b[0m       \u001b[32m0.9514\u001b[0m        \u001b[35m0.1582\u001b[0m  1.0441\n",
      "      5        \u001b[36m0.2216\u001b[0m       \u001b[32m0.9536\u001b[0m        \u001b[35m0.1508\u001b[0m  0.9533\n",
      "      6        \u001b[36m0.2012\u001b[0m       \u001b[32m0.9560\u001b[0m        \u001b[35m0.1449\u001b[0m  0.9606\n",
      "      7        \u001b[36m0.1928\u001b[0m       \u001b[32m0.9576\u001b[0m        \u001b[35m0.1348\u001b[0m  0.9549\n",
      "      8        \u001b[36m0.1832\u001b[0m       0.9569        0.1366  0.9282\n",
      "      9        \u001b[36m0.1762\u001b[0m       \u001b[32m0.9612\u001b[0m        \u001b[35m0.1210\u001b[0m  1.0296\n",
      "     10        \u001b[36m0.1701\u001b[0m       0.9572        0.1357  0.9059\n"
     ]
    }
   ],
   "source": [
    "X_train, X_test, y_train, y_test = train_test_split(\n",
    "    X, y, test_size=0.25, random_state=42)\n",
    "_ = pipe.fit(X_train, y_train)"
   ]
  },
  {
   "cell_type": "code",
   "execution_count": 21,
   "metadata": {},
   "outputs": [],
   "source": [
    "from sklearn.model_selection import GridSearchCV\n",
    "\n",
    "pipe.set_params(net__verbose=0)\n",
    "param_grid = {\n",
    "    'net__module__dropout': [0.2, 0.5, 0.8]\n",
    "}\n",
    "\n",
    "gs = GridSearchCV(pipe, param_grid, \n",
    "                  scoring=accuracy_argmax_scorer, \n",
    "                  cv=3, verbose=3)"
   ]
  },
  {
   "cell_type": "code",
   "execution_count": 22,
   "metadata": {},
   "outputs": [
    {
     "name": "stdout",
     "output_type": "stream",
     "text": [
      "Fitting 3 folds for each of 3 candidates, totalling 9 fits\n",
      "[CV] net__module__dropout=0.2 ........................................\n"
     ]
    },
    {
     "name": "stderr",
     "output_type": "stream",
     "text": [
      "[Parallel(n_jobs=1)]: Using backend SequentialBackend with 1 concurrent workers.\n"
     ]
    },
    {
     "name": "stdout",
     "output_type": "stream",
     "text": [
      "[CV] ............ net__module__dropout=0.2, score=0.968, total=  11.0s\n",
      "[CV] net__module__dropout=0.2 ........................................\n"
     ]
    },
    {
     "name": "stderr",
     "output_type": "stream",
     "text": [
      "[Parallel(n_jobs=1)]: Done   1 out of   1 | elapsed:   11.0s remaining:    0.0s\n"
     ]
    },
    {
     "name": "stdout",
     "output_type": "stream",
     "text": [
      "[CV] ............ net__module__dropout=0.2, score=0.964, total=  10.7s\n",
      "[CV] net__module__dropout=0.2 ........................................\n"
     ]
    },
    {
     "name": "stderr",
     "output_type": "stream",
     "text": [
      "[Parallel(n_jobs=1)]: Done   2 out of   2 | elapsed:   21.8s remaining:    0.0s\n"
     ]
    },
    {
     "name": "stdout",
     "output_type": "stream",
     "text": [
      "[CV] ............ net__module__dropout=0.2, score=0.969, total=  11.8s\n",
      "[CV] net__module__dropout=0.5 ........................................\n",
      "[CV] ............ net__module__dropout=0.5, score=0.962, total=  10.6s\n",
      "[CV] net__module__dropout=0.5 ........................................\n",
      "[CV] ............ net__module__dropout=0.5, score=0.958, total=  10.3s\n",
      "[CV] net__module__dropout=0.5 ........................................\n",
      "[CV] ............ net__module__dropout=0.5, score=0.966, total=  11.1s\n",
      "[CV] net__module__dropout=0.8 ........................................\n",
      "[CV] ............ net__module__dropout=0.8, score=0.939, total=  11.3s\n",
      "[CV] net__module__dropout=0.8 ........................................\n",
      "[CV] ............ net__module__dropout=0.8, score=0.931, total=  11.2s\n",
      "[CV] net__module__dropout=0.8 ........................................\n",
      "[CV] ............ net__module__dropout=0.8, score=0.943, total=  10.8s\n"
     ]
    },
    {
     "name": "stderr",
     "output_type": "stream",
     "text": [
      "[Parallel(n_jobs=1)]: Done   9 out of   9 | elapsed:  1.7min finished\n"
     ]
    }
   ],
   "source": [
    "_ = gs.fit(X, y)"
   ]
  },
  {
   "cell_type": "code",
   "execution_count": 24,
   "metadata": {},
   "outputs": [
    {
     "name": "stdout",
     "output_type": "stream",
     "text": [
      "best score: 0.9673\n",
      "best_params {'net__module__dropout': 0.2}\n"
     ]
    }
   ],
   "source": [
    "print(\"best score:\", gs.best_score_)\n",
    "print(\"best_params\", gs.best_params_)"
   ]
  }
 ],
 "metadata": {
  "kernelspec": {
   "display_name": "torch",
   "language": "python",
   "name": "conda-env-torch-py"
  },
  "language_info": {
   "codemirror_mode": {
    "name": "ipython",
    "version": 3
   },
   "file_extension": ".py",
   "mimetype": "text/x-python",
   "name": "python",
   "nbconvert_exporter": "python",
   "pygments_lexer": "ipython3",
   "version": "3.7.3"
  },
  "toc-autonumbering": false,
  "toc-showcode": false,
  "toc-showmarkdowntxt": false,
  "toc-showtags": false
 },
 "nbformat": 4,
 "nbformat_minor": 2
}
