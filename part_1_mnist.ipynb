{
  "nbformat": 4,
  "nbformat_minor": 0,
  "metadata": {
    "colab": {
      "name": "part_1_mnist.ipynb",
      "version": "0.3.2",
      "provenance": []
    },
    "kernelspec": {
      "name": "python3",
      "display_name": "Python 3"
    },
    "accelerator": "GPU"
  },
  "cells": [
    {
      "cell_type": "markdown",
      "metadata": {
        "colab_type": "text",
        "id": "QFUu7sgPx7ak"
      },
      "source": [
        "# Part 1 - MNIST\n",
        "\n",
        "<table align=\"left\"><td>\n",
        "<a target=\"_blank\" href=\"https://colab.research.google.com/github/thomasjpfan/skorch_talk/blob/master/part_1_mnist.ipynb\">\n",
        "    <img src=\"https://www.tensorflow.org/images/colab_logo_32px.png\" />Run in Google Colab</a>  \n",
        "</td><td>\n",
        "<a target=\"_blank\" href=\"https://github.com/thomasjpfan/skorch_talk/blob/master/part_1_mnist.ipynb\"><img width=32px src=\"https://www.tensorflow.org/images/GitHub-Mark-32px.png\" />View source on GitHub</a></td></table>"
      ]
    },
    {
      "cell_type": "markdown",
      "metadata": {
        "colab_type": "text",
        "id": "V8ZzeHxUx7an"
      },
      "source": [
        "**Note**: If you are running this in [a colab notebook](https://colab.research.google.com/github/thomasjpfan/skorch_talk/blob/master/part_1_mnist.ipynb), we recommend you enable a free GPU by going:\n",
        "\n",
        "> **Runtime**   →   **Change runtime type**   →   **Hardware Accelerator: GPU**\n",
        "\n",
        "If you are running in colab, you should install the dependencies and download the dataset by running the following cell:"
      ]
    },
    {
      "cell_type": "code",
      "metadata": {
        "colab_type": "code",
        "id": "GlTaAqGMx7ap",
        "outputId": "a815fdb1-3008-40f6-bcac-e0559752aac2",
        "colab": {
          "base_uri": "https://localhost:8080/",
          "height": 165
        }
      },
      "source": [
        "! [ ! -z \"$COLAB_GPU\" ] && pip install skorch"
      ],
      "execution_count": 2,
      "outputs": [
        {
          "output_type": "stream",
          "text": [
            "Requirement already satisfied: skorch in /usr/local/lib/python3.6/dist-packages (0.6.0)\n",
            "Requirement already satisfied: tqdm>=4.14.0 in /usr/local/lib/python3.6/dist-packages (from skorch) (4.28.1)\n",
            "Requirement already satisfied: scipy>=1.1.0 in /usr/local/lib/python3.6/dist-packages (from skorch) (1.3.0)\n",
            "Requirement already satisfied: numpy>=1.13.3 in /usr/local/lib/python3.6/dist-packages (from skorch) (1.16.4)\n",
            "Requirement already satisfied: tabulate>=0.7.7 in /usr/local/lib/python3.6/dist-packages (from skorch) (0.8.3)\n",
            "Requirement already satisfied: scikit-learn>=0.19.1 in /usr/local/lib/python3.6/dist-packages (from skorch) (0.21.2)\n",
            "Requirement already satisfied: joblib>=0.11 in /usr/local/lib/python3.6/dist-packages (from scikit-learn>=0.19.1->skorch) (0.13.2)\n"
          ],
          "name": "stdout"
        }
      ]
    },
    {
      "cell_type": "markdown",
      "metadata": {
        "colab_type": "text",
        "id": "GuRaoHKLx7av",
        "toc-hr-collapsed": false
      },
      "source": [
        "## Explore data"
      ]
    },
    {
      "cell_type": "code",
      "metadata": {
        "colab_type": "code",
        "id": "DdDrR3qVx7aw",
        "colab": {}
      },
      "source": [
        "%matplotlib inline\n",
        "\n",
        "import numpy as np\n",
        "import matplotlib.pyplot as plt\n",
        "from pathlib import Path\n",
        "from urllib import request"
      ],
      "execution_count": 0,
      "outputs": []
    },
    {
      "cell_type": "code",
      "metadata": {
        "colab_type": "code",
        "id": "c_FZ5LVIx7a1",
        "outputId": "2d1d2cc6-f59c-424f-8fca-265aa127cebf",
        "colab": {
          "base_uri": "https://localhost:8080/",
          "height": 51
        }
      },
      "source": [
        "def download_mnist(dataset_dir=Path('data')):\n",
        "    dataset_dir.mkdir(exist_ok=True)\n",
        "    mnist_data = dataset_dir / 'mnist.npz'\n",
        "    url = 'https://github.com/thomasjpfan/skorch_talk/blob/master/data/mnist.npz?raw=true'\n",
        "    if not mnist_data.exists():\n",
        "        print(\"Starting to download data...\")\n",
        "        data = request.urlopen(url, timeout=15).read()\n",
        "        with open(mnist_data, 'wb') as f:\n",
        "            f.write(data)\n",
        "    print(\"Data has been downloaded to {}.\".format(dataset_dir))\n",
        "    \n",
        "download_mnist()"
      ],
      "execution_count": 4,
      "outputs": [
        {
          "output_type": "stream",
          "text": [
            "Starting to download data...\n",
            "Data has been downloaded to data.\n"
          ],
          "name": "stdout"
        }
      ]
    },
    {
      "cell_type": "code",
      "metadata": {
        "colab_type": "code",
        "id": "9xqMJ7Ilx7a5",
        "colab": {}
      },
      "source": [
        "mnist = np.load('data/mnist.npz', allow_pickle=True)"
      ],
      "execution_count": 0,
      "outputs": []
    },
    {
      "cell_type": "code",
      "metadata": {
        "colab_type": "code",
        "id": "J1oObFLOx7bC",
        "outputId": "8d00a952-cfca-477c-fd8b-487976a370bd",
        "colab": {
          "base_uri": "https://localhost:8080/",
          "height": 34
        }
      },
      "source": [
        "X = mnist['data'].astype('float32')\n",
        "y = mnist['target'].astype('int64')\n",
        "\n",
        "print(X.shape, y.shape)"
      ],
      "execution_count": 6,
      "outputs": [
        {
          "output_type": "stream",
          "text": [
            "(70000, 784) (70000,)\n"
          ],
          "name": "stdout"
        }
      ]
    },
    {
      "cell_type": "code",
      "metadata": {
        "colab_type": "code",
        "id": "MCuJPK7Vx7bF",
        "outputId": "ddb1154e-8c92-4b25-edca-ef5737bcd970",
        "colab": {
          "base_uri": "https://localhost:8080/",
          "height": 300
        }
      },
      "source": [
        "fig, axes = plt.subplots(2, 5, figsize=(10, 4))\n",
        "fig.patch.set_alpha(0)\n",
        "Path('images').mkdir(exist_ok=True)\n",
        "\n",
        "for idx, ax in enumerate(axes.flatten()):\n",
        "    ax.imshow(X[idx].reshape(28, 28), cmap='gray')\n",
        "    ax.set_title(y[idx], fontsize=20)\n",
        "    ax.set_xticks([])\n",
        "    ax.set_yticks([])\n",
        "fig.tight_layout()\n",
        "fig.savefig('images/mnist_example.png')"
      ],
      "execution_count": 7,
      "outputs": [
        {
          "output_type": "display_data",
          "data": {
            "image/png": "[encoded data removed]",
            "text/plain": [
              "<Figure size 720x288 with 10 Axes>"
            ]
          },
          "metadata": {
            "tags": []
          }
        }
      ]
    },
    {
      "cell_type": "markdown",
      "metadata": {
        "colab_type": "text",
        "id": "sXQ58BrIx7bH"
      },
      "source": [
        "## Simple Neutral Model"
      ]
    },
    {
      "cell_type": "code",
      "metadata": {
        "colab_type": "code",
        "id": "yyC3iLu6x7bI",
        "colab": {}
      },
      "source": [
        "import torch.nn as nn\n",
        "\n",
        "class SimpleFeedforward(nn.Module):\n",
        "    def __init__(self, dropout=0.5):\n",
        "        super().__init__()\n",
        "        self.module = nn.Sequential(\n",
        "            nn.Linear(784, 98),\n",
        "            nn.ReLU(inplace=True),\n",
        "            nn.Dropout(dropout),\n",
        "            nn.Linear(98, 10)\n",
        "        )\n",
        "    def forward(self, X):\n",
        "        return self.module(X)"
      ],
      "execution_count": 0,
      "outputs": []
    },
    {
      "cell_type": "code",
      "metadata": {
        "colab_type": "code",
        "id": "CdYsykSix7bJ",
        "colab": {}
      },
      "source": [
        "from sklearn.model_selection import train_test_split\n",
        "\n",
        "X_scaled = X / X.max()\n",
        "\n",
        "X_train, X_test, y_train, y_test = train_test_split(\n",
        "    X_scaled, y, test_size=0.25, random_state=42)"
      ],
      "execution_count": 0,
      "outputs": []
    },
    {
      "cell_type": "code",
      "metadata": {
        "colab_type": "code",
        "id": "aemaHabqx7bK",
        "colab": {}
      },
      "source": [
        "from skorch import NeuralNet\n",
        "\n",
        "net = NeuralNet(\n",
        "    SimpleFeedforward,\n",
        "    criterion=nn.CrossEntropyLoss,\n",
        "    max_epochs=10,\n",
        "    lr=0.3,\n",
        "    device='cuda', # comment out to run on cpu\n",
        ")"
      ],
      "execution_count": 0,
      "outputs": []
    },
    {
      "cell_type": "code",
      "metadata": {
        "colab_type": "code",
        "id": "IT1kjOIex7bL",
        "outputId": "054b98a6-71e1-457f-eacd-5f968f21eb3d",
        "colab": {
          "base_uri": "https://localhost:8080/",
          "height": 221
        }
      },
      "source": [
        "_ = net.fit(X_train, y_train)"
      ],
      "execution_count": 11,
      "outputs": [
        {
          "output_type": "stream",
          "text": [
            "  epoch    train_loss    valid_loss     dur\n",
            "-------  ------------  ------------  ------\n",
            "      1        \u001b[36m0.5725\u001b[0m        \u001b[32m0.3651\u001b[0m  0.9327\n",
            "      2        \u001b[36m0.3142\u001b[0m        \u001b[32m0.2735\u001b[0m  0.8396\n",
            "      3        \u001b[36m0.2653\u001b[0m        \u001b[32m0.1859\u001b[0m  0.8433\n",
            "      4        \u001b[36m0.2362\u001b[0m        \u001b[32m0.1615\u001b[0m  0.8500\n",
            "      5        \u001b[36m0.2164\u001b[0m        \u001b[32m0.1434\u001b[0m  0.8448\n",
            "      6        \u001b[36m0.2020\u001b[0m        0.1577  0.8568\n",
            "      7        \u001b[36m0.1958\u001b[0m        \u001b[32m0.1304\u001b[0m  0.8429\n",
            "      8        \u001b[36m0.1850\u001b[0m        0.1321  0.8449\n",
            "      9        \u001b[36m0.1755\u001b[0m        \u001b[32m0.1226\u001b[0m  0.8510\n",
            "     10        \u001b[36m0.1718\u001b[0m        0.1304  0.8497\n"
          ],
          "name": "stdout"
        }
      ]
    },
    {
      "cell_type": "code",
      "metadata": {
        "colab_type": "code",
        "id": "n6tvumQfx7bM",
        "outputId": "1d0a614d-0214-4ce7-809c-7190561ec7be",
        "colab": {
          "base_uri": "https://localhost:8080/",
          "height": 102
        }
      },
      "source": [
        "net.set_params(max_epochs=5)\n",
        "_ = net.partial_fit(X_train, y_train)"
      ],
      "execution_count": 12,
      "outputs": [
        {
          "output_type": "stream",
          "text": [
            "     11        \u001b[36m0.1648\u001b[0m        \u001b[32m0.1129\u001b[0m  0.8646\n",
            "     12        \u001b[36m0.1597\u001b[0m        \u001b[32m0.1100\u001b[0m  0.8572\n",
            "     13        \u001b[36m0.1521\u001b[0m        0.1139  0.8666\n",
            "     14        \u001b[36m0.1495\u001b[0m        0.1120  0.8500\n",
            "     15        \u001b[36m0.1451\u001b[0m        0.1105  0.8549\n"
          ],
          "name": "stdout"
        }
      ]
    },
    {
      "cell_type": "markdown",
      "metadata": {
        "colab_type": "text",
        "id": "hekEXe_yx7bO"
      },
      "source": [
        "## History"
      ]
    },
    {
      "cell_type": "code",
      "metadata": {
        "colab_type": "code",
        "id": "kn6Jyd6Cx7bO",
        "outputId": "9ee96198-8966-4b55-bc08-48942ffa8dea",
        "colab": {
          "base_uri": "https://localhost:8080/",
          "height": 34
        }
      },
      "source": [
        "len(net.history)"
      ],
      "execution_count": 13,
      "outputs": [
        {
          "output_type": "execute_result",
          "data": {
            "text/plain": [
              "15"
            ]
          },
          "metadata": {
            "tags": []
          },
          "execution_count": 13
        }
      ]
    },
    {
      "cell_type": "code",
      "metadata": {
        "colab_type": "code",
        "id": "_wc2Fa1Jx7bQ",
        "outputId": "e47788de-642e-4276-f149-98e9226d5e90",
        "colab": {
          "base_uri": "https://localhost:8080/",
          "height": 34
        }
      },
      "source": [
        "net.history[-1, 'valid_loss']"
      ],
      "execution_count": 14,
      "outputs": [
        {
          "output_type": "execute_result",
          "data": {
            "text/plain": [
              "0.11050002356937953"
            ]
          },
          "metadata": {
            "tags": []
          },
          "execution_count": 14
        }
      ]
    },
    {
      "cell_type": "code",
      "metadata": {
        "colab_type": "code",
        "id": "K6H9Bl2-x7bS",
        "outputId": "f719af39-5c36-4280-adf3-42f8443e55d1",
        "colab": {
          "base_uri": "https://localhost:8080/",
          "height": 34
        }
      },
      "source": [
        "net.history[-2:, 'train_loss']"
      ],
      "execution_count": 15,
      "outputs": [
        {
          "output_type": "execute_result",
          "data": {
            "text/plain": [
              "[0.14953009933517092, 0.14514406461942764]"
            ]
          },
          "metadata": {
            "tags": []
          },
          "execution_count": 15
        }
      ]
    },
    {
      "cell_type": "markdown",
      "metadata": {
        "colab_type": "text",
        "id": "_Z7jxthpx7bU"
      },
      "source": [
        "## Callbacks"
      ]
    },
    {
      "cell_type": "markdown",
      "metadata": {
        "colab_type": "text",
        "id": "LEIY-j-Tx7bV"
      },
      "source": [
        "### EpochScoring"
      ]
    },
    {
      "cell_type": "code",
      "metadata": {
        "colab_type": "code",
        "id": "lM-TfcFhx7bV",
        "outputId": "8952a2aa-5aa3-4f45-86ef-a3da1b8fc3de",
        "colab": {
          "base_uri": "https://localhost:8080/",
          "height": 68
        }
      },
      "source": [
        "y_pred = net.predict(X_test)\n",
        "print(y_pred.shape)\n",
        "print(y_pred[0, :])"
      ],
      "execution_count": 16,
      "outputs": [
        {
          "output_type": "stream",
          "text": [
            "(17500, 10)\n",
            "[-8.3347     0.7850033  6.4455976  6.909385  -9.811217   5.438596\n",
            " -9.500775  -2.8927622 15.760244  -4.2489367]\n"
          ],
          "name": "stdout"
        }
      ]
    },
    {
      "cell_type": "code",
      "metadata": {
        "colab_type": "code",
        "id": "stNbGk22x7bX",
        "outputId": "1f67b5be-5eff-4824-ae43-45a30913b6ba",
        "colab": {
          "base_uri": "https://localhost:8080/",
          "height": 34
        }
      },
      "source": [
        "def accuracy_argmax(y_true, y_pred):\n",
        "    return np.mean(y_true == np.argmax(y_pred, -1))\n",
        "\n",
        "print('test accuracy:', accuracy_argmax(y_test, y_pred))"
      ],
      "execution_count": 17,
      "outputs": [
        {
          "output_type": "stream",
          "text": [
            "test accuracy: 0.9653142857142857\n"
          ],
          "name": "stdout"
        }
      ]
    },
    {
      "cell_type": "code",
      "metadata": {
        "colab_type": "code",
        "id": "JA_SLcSmx7bY",
        "colab": {}
      },
      "source": [
        "from sklearn.metrics import make_scorer\n",
        "from skorch.callbacks import EpochScoring\n",
        "\n",
        "accuracy_argmax_scorer = make_scorer(accuracy_argmax)\n",
        "\n",
        "epoch_acc = EpochScoring(\n",
        "    accuracy_argmax_scorer,\n",
        "    name='valid_acc',\n",
        "    lower_is_better=False)"
      ],
      "execution_count": 0,
      "outputs": []
    },
    {
      "cell_type": "code",
      "metadata": {
        "colab_type": "code",
        "id": "SvSl8PiHx7bZ",
        "colab": {}
      },
      "source": [
        "net = NeuralNet(\n",
        "    SimpleFeedforward,\n",
        "    criterion=nn.CrossEntropyLoss,\n",
        "    max_epochs=10,\n",
        "    lr=0.3,\n",
        "    device='cuda',\n",
        "    callbacks=[epoch_acc]\n",
        ")"
      ],
      "execution_count": 0,
      "outputs": []
    },
    {
      "cell_type": "code",
      "metadata": {
        "colab_type": "code",
        "id": "agGbjo8vx7ba",
        "outputId": "30171c10-1c04-44a3-f8f4-2e5c3c3f3fcb",
        "colab": {
          "base_uri": "https://localhost:8080/",
          "height": 221
        }
      },
      "source": [
        "_ = net.fit(X_train, y_train)"
      ],
      "execution_count": 20,
      "outputs": [
        {
          "output_type": "stream",
          "text": [
            "  epoch    train_loss    valid_acc    valid_loss     dur\n",
            "-------  ------------  -----------  ------------  ------\n",
            "      1        \u001b[36m0.5739\u001b[0m       \u001b[32m0.9031\u001b[0m        \u001b[35m0.3159\u001b[0m  0.8901\n",
            "      2        \u001b[36m0.3232\u001b[0m       \u001b[32m0.9273\u001b[0m        \u001b[35m0.2321\u001b[0m  0.8563\n",
            "      3        \u001b[36m0.2691\u001b[0m       0.9260        \u001b[35m0.2317\u001b[0m  0.8619\n",
            "      4        \u001b[36m0.2414\u001b[0m       \u001b[32m0.9484\u001b[0m        \u001b[35m0.1716\u001b[0m  0.8594\n",
            "      5        \u001b[36m0.2192\u001b[0m       \u001b[32m0.9562\u001b[0m        \u001b[35m0.1459\u001b[0m  0.8606\n",
            "      6        \u001b[36m0.2056\u001b[0m       0.9534        0.1505  0.8599\n",
            "      7        \u001b[36m0.1948\u001b[0m       \u001b[32m0.9588\u001b[0m        \u001b[35m0.1361\u001b[0m  0.8599\n",
            "      8        \u001b[36m0.1862\u001b[0m       0.9570        0.1389  0.8536\n",
            "      9        \u001b[36m0.1770\u001b[0m       \u001b[32m0.9615\u001b[0m        \u001b[35m0.1261\u001b[0m  0.8498\n",
            "     10        \u001b[36m0.1761\u001b[0m       \u001b[32m0.9630\u001b[0m        \u001b[35m0.1229\u001b[0m  0.8587\n"
          ],
          "name": "stdout"
        }
      ]
    },
    {
      "cell_type": "markdown",
      "metadata": {
        "colab_type": "text",
        "id": "h2aItvhnx7bb"
      },
      "source": [
        "## Integration with sklearn"
      ]
    },
    {
      "cell_type": "code",
      "metadata": {
        "colab_type": "code",
        "id": "0GF8gij-x7bc",
        "colab": {}
      },
      "source": [
        "from sklearn.pipeline import Pipeline\n",
        "from sklearn.preprocessing import MinMaxScaler"
      ],
      "execution_count": 0,
      "outputs": []
    },
    {
      "cell_type": "code",
      "metadata": {
        "colab_type": "code",
        "id": "bmQbp65Hx7bc",
        "colab": {}
      },
      "source": [
        "pipe = Pipeline([\n",
        "    ('min_max', MinMaxScaler()),\n",
        "    ('net', net)\n",
        "])"
      ],
      "execution_count": 0,
      "outputs": []
    },
    {
      "cell_type": "code",
      "metadata": {
        "colab_type": "code",
        "id": "qlLFKQnPx7bd",
        "outputId": "76becf80-ae4c-42fc-db61-b0ec85ea6f78",
        "colab": {
          "base_uri": "https://localhost:8080/",
          "height": 255
        }
      },
      "source": [
        "X_train, X_test, y_train, y_test = train_test_split(\n",
        "    X, y, test_size=0.25, random_state=42)\n",
        "_ = pipe.fit(X_train, y_train)"
      ],
      "execution_count": 23,
      "outputs": [
        {
          "output_type": "stream",
          "text": [
            "Re-initializing module.\n",
            "Re-initializing optimizer.\n",
            "  epoch    train_loss    valid_acc    valid_loss     dur\n",
            "-------  ------------  -----------  ------------  ------\n",
            "      1        \u001b[36m0.5760\u001b[0m       \u001b[32m0.9024\u001b[0m        \u001b[35m0.3209\u001b[0m  0.8915\n",
            "      2        \u001b[36m0.3174\u001b[0m       \u001b[32m0.9290\u001b[0m        \u001b[35m0.2390\u001b[0m  0.8827\n",
            "      3        \u001b[36m0.2667\u001b[0m       \u001b[32m0.9440\u001b[0m        \u001b[35m0.1848\u001b[0m  0.8939\n",
            "      4        \u001b[36m0.2375\u001b[0m       \u001b[32m0.9451\u001b[0m        \u001b[35m0.1787\u001b[0m  0.8833\n",
            "      5        \u001b[36m0.2195\u001b[0m       \u001b[32m0.9532\u001b[0m        \u001b[35m0.1536\u001b[0m  0.8874\n",
            "      6        \u001b[36m0.2052\u001b[0m       0.9508        0.1560  0.8902\n",
            "      7        \u001b[36m0.1967\u001b[0m       \u001b[32m0.9550\u001b[0m        \u001b[35m0.1448\u001b[0m  0.8973\n",
            "      8        \u001b[36m0.1833\u001b[0m       \u001b[32m0.9626\u001b[0m        \u001b[35m0.1245\u001b[0m  0.8824\n",
            "      9        \u001b[36m0.1763\u001b[0m       0.9610        0.1295  0.8813\n",
            "     10        \u001b[36m0.1698\u001b[0m       \u001b[32m0.9641\u001b[0m        \u001b[35m0.1190\u001b[0m  0.8838\n"
          ],
          "name": "stdout"
        }
      ]
    },
    {
      "cell_type": "code",
      "metadata": {
        "colab_type": "code",
        "id": "bV1zyKX6x7be",
        "colab": {}
      },
      "source": [
        "from sklearn.model_selection import GridSearchCV\n",
        "\n",
        "pipe.set_params(net__verbose=0)\n",
        "param_grid = {\n",
        "    'net__module__dropout': [0.2, 0.5, 0.8]\n",
        "}\n",
        "\n",
        "gs = GridSearchCV(pipe, param_grid, \n",
        "                  scoring=accuracy_argmax_scorer, \n",
        "                  cv=3, verbose=3)"
      ],
      "execution_count": 0,
      "outputs": []
    },
    {
      "cell_type": "code",
      "metadata": {
        "colab_type": "code",
        "id": "scpe5_-tx7bf",
        "outputId": "9d0de8dd-b6c2-4c90-9365-21d203a91cd3",
        "colab": {
          "base_uri": "https://localhost:8080/",
          "height": 408
        }
      },
      "source": [
        "_ = gs.fit(X, y)"
      ],
      "execution_count": 25,
      "outputs": [
        {
          "output_type": "stream",
          "text": [
            "Fitting 3 folds for each of 3 candidates, totalling 9 fits\n",
            "[CV] net__module__dropout=0.2 ........................................\n"
          ],
          "name": "stdout"
        },
        {
          "output_type": "stream",
          "text": [
            "[Parallel(n_jobs=1)]: Using backend SequentialBackend with 1 concurrent workers.\n"
          ],
          "name": "stderr"
        },
        {
          "output_type": "stream",
          "text": [
            "[CV] ............ net__module__dropout=0.2, score=0.966, total=   9.9s\n",
            "[CV] net__module__dropout=0.2 ........................................\n"
          ],
          "name": "stdout"
        },
        {
          "output_type": "stream",
          "text": [
            "[Parallel(n_jobs=1)]: Done   1 out of   1 | elapsed:    9.9s remaining:    0.0s\n"
          ],
          "name": "stderr"
        },
        {
          "output_type": "stream",
          "text": [
            "[CV] ............ net__module__dropout=0.2, score=0.963, total=   9.6s\n",
            "[CV] net__module__dropout=0.2 ........................................\n"
          ],
          "name": "stdout"
        },
        {
          "output_type": "stream",
          "text": [
            "[Parallel(n_jobs=1)]: Done   2 out of   2 | elapsed:   19.6s remaining:    0.0s\n"
          ],
          "name": "stderr"
        },
        {
          "output_type": "stream",
          "text": [
            "[CV] ............ net__module__dropout=0.2, score=0.968, total=   9.6s\n",
            "[CV] net__module__dropout=0.5 ........................................\n",
            "[CV] ............ net__module__dropout=0.5, score=0.958, total=   9.6s\n",
            "[CV] net__module__dropout=0.5 ........................................\n",
            "[CV] ............ net__module__dropout=0.5, score=0.958, total=   9.7s\n",
            "[CV] net__module__dropout=0.5 ........................................\n",
            "[CV] ............ net__module__dropout=0.5, score=0.964, total=   9.7s\n",
            "[CV] net__module__dropout=0.8 ........................................\n",
            "[CV] ............ net__module__dropout=0.8, score=0.937, total=   9.5s\n",
            "[CV] net__module__dropout=0.8 ........................................\n",
            "[CV] ............ net__module__dropout=0.8, score=0.932, total=   9.5s\n",
            "[CV] net__module__dropout=0.8 ........................................\n",
            "[CV] ............ net__module__dropout=0.8, score=0.944, total=   9.5s\n"
          ],
          "name": "stdout"
        },
        {
          "output_type": "stream",
          "text": [
            "[Parallel(n_jobs=1)]: Done   9 out of   9 | elapsed:  1.4min finished\n"
          ],
          "name": "stderr"
        }
      ]
    },
    {
      "cell_type": "code",
      "metadata": {
        "colab_type": "code",
        "id": "Gp8MJQWdx7bh",
        "outputId": "50b38492-d6c3-46f3-d055-74f52d4522f3",
        "colab": {
          "base_uri": "https://localhost:8080/",
          "height": 51
        }
      },
      "source": [
        "print(\"best score:\", gs.best_score_)\n",
        "print(\"best_params\", gs.best_params_)"
      ],
      "execution_count": 26,
      "outputs": [
        {
          "output_type": "stream",
          "text": [
            "best score: 0.9658857142857142\n",
            "best_params {'net__module__dropout': 0.2}\n"
          ],
          "name": "stdout"
        }
      ]
    },
    {
      "cell_type": "markdown",
      "metadata": {
        "id": "IsWQgHQHhpEi",
        "colab_type": "text"
      },
      "source": [
        "## Conform to scikit-learn Classifer"
      ]
    },
    {
      "cell_type": "code",
      "metadata": {
        "id": "XY_xubxih6WK",
        "colab_type": "code",
        "colab": {}
      },
      "source": [
        "from sklearn.base import ClassifierMixin\n",
        "from sklearn.utils.extmath import softmax\n",
        "from skorch import NeuralNet\n",
        "\n",
        "class MyNNClassifer(ClassifierMixin, NeuralNet):\n",
        "    def fit(self, X, y, **fit_params):\n",
        "        super().fit(X, y, **fit_params)\n",
        "        self.classes_ = np.unique(y)\n",
        "  \n",
        "    def predict_proba(self, X):\n",
        "        y_pred = super().predict_proba(X)\n",
        "        return softmax(y_pred)\n",
        "      \n",
        "    def predict(self, X):\n",
        "        y_pred = super().predict(X)\n",
        "        return np.argmax(y_pred, axis=1)"
      ],
      "execution_count": 0,
      "outputs": []
    },
    {
      "cell_type": "code",
      "metadata": {
        "id": "Iq-Pwx7upcIT",
        "colab_type": "code",
        "colab": {}
      },
      "source": [
        "from skorch.callbacks import EpochScoring\n",
        "epoch_acc = EpochScoring(\n",
        "    'accuracy',\n",
        "    name='valid_acc',\n",
        "    lower_is_better=False)\n",
        "\n",
        "net = MyNNClassifer(\n",
        "    SimpleFeedforward,\n",
        "    criterion=nn.CrossEntropyLoss,\n",
        "    max_epochs=10,\n",
        "    lr=0.3,\n",
        "    device='cuda', # comment out to run on cpu\n",
        "    callbacks=[epoch_acc]\n",
        ")"
      ],
      "execution_count": 0,
      "outputs": []
    },
    {
      "cell_type": "code",
      "metadata": {
        "id": "N9lsD3gXpr4u",
        "colab_type": "code",
        "colab": {
          "base_uri": "https://localhost:8080/",
          "height": 221
        },
        "outputId": "d636e879-53ef-48a0-8550-3310870b9af6"
      },
      "source": [
        "_ = net.fit(X_train, y_train)"
      ],
      "execution_count": 52,
      "outputs": [
        {
          "output_type": "stream",
          "text": [
            "  epoch    train_loss    valid_acc    valid_loss     dur\n",
            "-------  ------------  -----------  ------------  ------\n",
            "      1        \u001b[36m0.5763\u001b[0m       \u001b[32m0.8983\u001b[0m        \u001b[35m0.3319\u001b[0m  1.1257\n",
            "      2        \u001b[36m0.3164\u001b[0m       \u001b[32m0.9327\u001b[0m        \u001b[35m0.2233\u001b[0m  1.0862\n",
            "      3        \u001b[36m0.2666\u001b[0m       0.9319        \u001b[35m0.2189\u001b[0m  1.0448\n",
            "      4        \u001b[36m0.2388\u001b[0m       \u001b[32m0.9508\u001b[0m        \u001b[35m0.1626\u001b[0m  1.0473\n",
            "      5        \u001b[36m0.2149\u001b[0m       0.9431        0.1800  1.0277\n",
            "      6        \u001b[36m0.2037\u001b[0m       \u001b[32m0.9561\u001b[0m        \u001b[35m0.1465\u001b[0m  1.0530\n",
            "      7        \u001b[36m0.1917\u001b[0m       \u001b[32m0.9591\u001b[0m        \u001b[35m0.1343\u001b[0m  1.0409\n",
            "      8        \u001b[36m0.1815\u001b[0m       \u001b[32m0.9613\u001b[0m        \u001b[35m0.1277\u001b[0m  1.0335\n",
            "      9        \u001b[36m0.1763\u001b[0m       \u001b[32m0.9631\u001b[0m        \u001b[35m0.1221\u001b[0m  1.0309\n",
            "     10        \u001b[36m0.1709\u001b[0m       0.9621        0.1273  1.0402\n"
          ],
          "name": "stdout"
        }
      ]
    },
    {
      "cell_type": "code",
      "metadata": {
        "id": "SdG5gLSzrKWN",
        "colab_type": "code",
        "colab": {
          "base_uri": "https://localhost:8080/",
          "height": 34
        },
        "outputId": "431abdfd-8879-4fdb-b91d-1984e893ca4c"
      },
      "source": [
        "net.classes_"
      ],
      "execution_count": 39,
      "outputs": [
        {
          "output_type": "execute_result",
          "data": {
            "text/plain": [
              "array([0, 1, 2, 3, 4, 5, 6, 7, 8, 9])"
            ]
          },
          "metadata": {
            "tags": []
          },
          "execution_count": 39
        }
      ]
    },
    {
      "cell_type": "code",
      "metadata": {
        "id": "CGFoPsttp-xq",
        "colab_type": "code",
        "colab": {}
      },
      "source": [
        "y_test_pred = net.predict(X_test)"
      ],
      "execution_count": 0,
      "outputs": []
    },
    {
      "cell_type": "code",
      "metadata": {
        "id": "zHmFma11qCWA",
        "colab_type": "code",
        "colab": {
          "base_uri": "https://localhost:8080/",
          "height": 34
        },
        "outputId": "4d441188-0ccd-49e4-bdd3-d4404d2dfae2"
      },
      "source": [
        "y_test_pred[0: 2]"
      ],
      "execution_count": 41,
      "outputs": [
        {
          "output_type": "execute_result",
          "data": {
            "text/plain": [
              "array([8, 4])"
            ]
          },
          "metadata": {
            "tags": []
          },
          "execution_count": 41
        }
      ]
    },
    {
      "cell_type": "code",
      "metadata": {
        "id": "T1vVuHrnqIHi",
        "colab_type": "code",
        "colab": {}
      },
      "source": [
        "y_test_pred_proba = net.predict_proba(X_test)"
      ],
      "execution_count": 0,
      "outputs": []
    },
    {
      "cell_type": "code",
      "metadata": {
        "id": "_I8qwga9qVbN",
        "colab_type": "code",
        "colab": {
          "base_uri": "https://localhost:8080/",
          "height": 119
        },
        "outputId": "610274da-3abb-4ecb-8f75-4fe211b895a4"
      },
      "source": [
        "y_test_pred_proba[0:2, :]"
      ],
      "execution_count": 43,
      "outputs": [
        {
          "output_type": "execute_result",
          "data": {
            "text/plain": [
              "array([[2.71880793e-07, 3.25494000e-07, 1.12523943e-04, 3.65644810e-03,\n",
              "        1.11876930e-09, 2.35797212e-04, 1.20907435e-08, 7.18731812e-08,\n",
              "        9.95992780e-01, 1.83940176e-06],\n",
              "       [9.76298122e-12, 2.07509760e-08, 8.03121181e-11, 5.19260990e-09,\n",
              "        9.99871612e-01, 2.94302449e-09, 2.53785742e-10, 1.11806148e-04,\n",
              "        6.08241280e-09, 1.65573420e-05]], dtype=float32)"
            ]
          },
          "metadata": {
            "tags": []
          },
          "execution_count": 43
        }
      ]
    }
  ]
}