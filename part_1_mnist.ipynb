{
  "nbformat": 4,
  "nbformat_minor": 0,
  "metadata": {
    "colab": {
      "name": "part_1_mnist.ipynb",
      "version": "0.3.2",
      "provenance": []
    },
    "kernelspec": {
      "name": "python3",
      "display_name": "Python 3"
    },
    "accelerator": "GPU"
  },
  "cells": [
    {
      "cell_type": "markdown",
      "metadata": {
        "id": "QFUu7sgPx7ak",
        "colab_type": "text"
      },
      "source": [
        "# Part 1 - MNIST\n",
        "\n",
        "<table align=\"left\"><td>\n",
        "<a target=\"_blank\" href=\"https://colab.research.google.com/github/thomasjpfan/skorch_talk/blob/master/part_1_mnist.ipynb\">\n",
        "    <img src=\"https://www.tensorflow.org/images/colab_logo_32px.png\" />Run in Google Colab</a>  \n",
        "</td><td>\n",
        "<a target=\"_blank\" href=\"https://github.com/thomasjpfan/skorch_talk/blob/master/part_1_mnist.ipynb\"><img width=32px src=\"https://www.tensorflow.org/images/GitHub-Mark-32px.png\" />View source on GitHub</a></td></table>"
      ]
    },
    {
      "cell_type": "markdown",
      "metadata": {
        "id": "V8ZzeHxUx7an",
        "colab_type": "text"
      },
      "source": [
        "**Note**: If you are running this in [a colab notebook](https://colab.research.google.com/github/thomasjpfan/skorch_talk/blob/master/part_1_mnist.ipynb), we recommend you enable a free GPU by going:\n",
        "\n",
        "> **Runtime**   →   **Change runtime type**   →   **Hardware Accelerator: GPU**\n",
        "\n",
        "If you are running in colab, you should install the dependencies and download the dataset by running the following cell:"
      ]
    },
    {
      "cell_type": "code",
      "metadata": {
        "id": "GlTaAqGMx7ap",
        "colab_type": "code",
        "colab": {
          "base_uri": "https://localhost:8080/",
          "height": 233
        },
        "outputId": "d39eb4ee-5995-48ab-e8f2-c83b0f6a691a"
      },
      "source": [
        "! [ ! -z \"$COLAB_GPU\" ] && pip install scikit-learn==0.21.* skorch"
      ],
      "execution_count": 1,
      "outputs": [
        {
          "output_type": "stream",
          "text": [
            "Requirement already satisfied: scikit-learn==0.21.* in /usr/local/lib/python3.6/dist-packages (0.21.2)\n",
            "Collecting skorch\n",
            "\u001b[?25l  Downloading https://files.pythonhosted.org/packages/c7/df/1e0be91bf4c91fce5f99cc4edd89d3dfc16930d3fc77588493558036a8d2/skorch-0.6.0-py3-none-any.whl (101kB)\n",
            "\u001b[K     |████████████████████████████████| 102kB 4.6MB/s \n",
            "\u001b[?25hRequirement already satisfied: numpy>=1.11.0 in /usr/local/lib/python3.6/dist-packages (from scikit-learn==0.21.*) (1.16.4)\n",
            "Requirement already satisfied: joblib>=0.11 in /usr/local/lib/python3.6/dist-packages (from scikit-learn==0.21.*) (0.13.2)\n",
            "Requirement already satisfied: scipy>=0.17.0 in /usr/local/lib/python3.6/dist-packages (from scikit-learn==0.21.*) (1.3.0)\n",
            "Requirement already satisfied: tabulate>=0.7.7 in /usr/local/lib/python3.6/dist-packages (from skorch) (0.8.3)\n",
            "Requirement already satisfied: tqdm>=4.14.0 in /usr/local/lib/python3.6/dist-packages (from skorch) (4.28.1)\n",
            "Installing collected packages: skorch\n",
            "Successfully installed skorch-0.6.0\n"
          ],
          "name": "stdout"
        }
      ]
    },
    {
      "cell_type": "markdown",
      "metadata": {
        "toc-hr-collapsed": false,
        "id": "GuRaoHKLx7av",
        "colab_type": "text"
      },
      "source": [
        "## Explore data"
      ]
    },
    {
      "cell_type": "code",
      "metadata": {
        "id": "DdDrR3qVx7aw",
        "colab_type": "code",
        "colab": {}
      },
      "source": [
        "%matplotlib inline\n",
        "\n",
        "import numpy as np\n",
        "import matplotlib.pyplot as plt\n",
        "from pathlib import Path\n",
        "from urllib import request"
      ],
      "execution_count": 0,
      "outputs": []
    },
    {
      "cell_type": "code",
      "metadata": {
        "id": "c_FZ5LVIx7a1",
        "colab_type": "code",
        "colab": {
          "base_uri": "https://localhost:8080/",
          "height": 51
        },
        "outputId": "63e96c6b-0962-422a-db63-61afaa232269"
      },
      "source": [
        "def download_mnist(dataset_dir=Path('data')):\n",
        "    dataset_dir.mkdir(exist_ok=True)\n",
        "    mnist_data = dataset_dir / 'mnist.npz'\n",
        "    url = 'https://github.com/thomasjpfan/skorch_talk/blob/master/data/mnist.npz?raw=true'\n",
        "    if not mnist_data.exists():\n",
        "        print(\"Starting to download data...\")\n",
        "        data = request.urlopen(url, timeout=15).read()\n",
        "        with open(mnist_data, 'wb') as f:\n",
        "            f.write(data)\n",
        "    print(\"Data has been downloaded to {}.\".format(dataset_dir))\n",
        "    \n",
        "download_mnist()"
      ],
      "execution_count": 8,
      "outputs": [
        {
          "output_type": "stream",
          "text": [
            "Starting to download data...\n",
            "Data has been downloaded to data.\n"
          ],
          "name": "stdout"
        }
      ]
    },
    {
      "cell_type": "code",
      "metadata": {
        "id": "9xqMJ7Ilx7a5",
        "colab_type": "code",
        "colab": {}
      },
      "source": [
        "mnist = np.load('data/mnist.npz', allow_pickle=True)"
      ],
      "execution_count": 0,
      "outputs": []
    },
    {
      "cell_type": "code",
      "metadata": {
        "id": "J1oObFLOx7bC",
        "colab_type": "code",
        "colab": {
          "base_uri": "https://localhost:8080/",
          "height": 34
        },
        "outputId": "2cfb5796-261f-4413-8908-cb514b70830e"
      },
      "source": [
        "X = mnist['data'].astype('float32')\n",
        "y = mnist['target'].astype('int64')\n",
        "\n",
        "print(X.shape, y.shape)"
      ],
      "execution_count": 10,
      "outputs": [
        {
          "output_type": "stream",
          "text": [
            "(70000, 784) (70000,)\n"
          ],
          "name": "stdout"
        }
      ]
    },
    {
      "cell_type": "code",
      "metadata": {
        "id": "MCuJPK7Vx7bF",
        "colab_type": "code",
        "colab": {
          "base_uri": "https://localhost:8080/",
          "height": 300
        },
        "outputId": "17d8823c-553d-48ab-e804-152cc1ece59a"
      },
      "source": [
        "fig, axes = plt.subplots(2, 5, figsize=(10, 4))\n",
        "fig.patch.set_alpha(0)\n",
        "Path('images').mkdir(exist_ok=True)\n",
        "\n",
        "for idx, ax in enumerate(axes.flatten()):\n",
        "    ax.imshow(X[idx].reshape(28, 28), cmap='gray')\n",
        "    ax.set_title(y[idx], fontsize=20)\n",
        "    ax.set_xticks([])\n",
        "    ax.set_yticks([])\n",
        "fig.tight_layout()\n",
        "fig.savefig('images/mnist_example.png')"
      ],
      "execution_count": 13,
      "outputs": [
        {
          "output_type": "display_data",
          "data": {
            "image/png": "[encoded data removed]",
            "text/plain": [
              "<Figure size 720x288 with 10 Axes>"
            ]
          },
          "metadata": {
            "tags": []
          }
        }
      ]
    },
    {
      "cell_type": "markdown",
      "metadata": {
        "id": "sXQ58BrIx7bH",
        "colab_type": "text"
      },
      "source": [
        "## Simple Neutral Model"
      ]
    },
    {
      "cell_type": "code",
      "metadata": {
        "id": "yyC3iLu6x7bI",
        "colab_type": "code",
        "colab": {}
      },
      "source": [
        "import torch.nn as nn\n",
        "\n",
        "class SimpleFeedforward(nn.Module):\n",
        "    def __init__(self, dropout=0.5):\n",
        "        super().__init__()\n",
        "        self.module = nn.Sequential(\n",
        "            nn.Linear(784, 98),\n",
        "            nn.ReLU(inplace=True),\n",
        "            nn.Dropout(dropout),\n",
        "            nn.Linear(98, 10)\n",
        "        )\n",
        "    def forward(self, X):\n",
        "        return self.module(X)"
      ],
      "execution_count": 0,
      "outputs": []
    },
    {
      "cell_type": "code",
      "metadata": {
        "id": "CdYsykSix7bJ",
        "colab_type": "code",
        "colab": {}
      },
      "source": [
        "from sklearn.model_selection import train_test_split\n",
        "\n",
        "X_scaled = X / X.max()\n",
        "\n",
        "X_train, X_test, y_train, y_test = train_test_split(\n",
        "    X_scaled, y, test_size=0.25, random_state=42)"
      ],
      "execution_count": 0,
      "outputs": []
    },
    {
      "cell_type": "code",
      "metadata": {
        "id": "aemaHabqx7bK",
        "colab_type": "code",
        "colab": {}
      },
      "source": [
        "from skorch import NeuralNet\n",
        "\n",
        "net = NeuralNet(\n",
        "    SimpleFeedforward,\n",
        "    criterion=nn.CrossEntropyLoss,\n",
        "    max_epochs=10,\n",
        "    lr=0.3,\n",
        "    device='cuda', # comment out to run on cpu\n",
        ")"
      ],
      "execution_count": 0,
      "outputs": []
    },
    {
      "cell_type": "code",
      "metadata": {
        "id": "IT1kjOIex7bL",
        "colab_type": "code",
        "colab": {
          "base_uri": "https://localhost:8080/",
          "height": 221
        },
        "outputId": "f7e72028-5747-4b82-dc3f-99e33218bafc"
      },
      "source": [
        "_ = net.fit(X_train, y_train)"
      ],
      "execution_count": 17,
      "outputs": [
        {
          "output_type": "stream",
          "text": [
            "  epoch    train_loss    valid_loss     dur\n",
            "-------  ------------  ------------  ------\n",
            "      1        \u001b[36m0.5782\u001b[0m        \u001b[32m0.3032\u001b[0m  1.0128\n",
            "      2        \u001b[36m0.3196\u001b[0m        \u001b[32m0.2418\u001b[0m  0.9599\n",
            "      3        \u001b[36m0.2668\u001b[0m        \u001b[32m0.1862\u001b[0m  0.9304\n",
            "      4        \u001b[36m0.2378\u001b[0m        \u001b[32m0.1770\u001b[0m  0.8558\n",
            "      5        \u001b[36m0.2178\u001b[0m        \u001b[32m0.1520\u001b[0m  0.8517\n",
            "      6        \u001b[36m0.2020\u001b[0m        \u001b[32m0.1395\u001b[0m  0.8458\n",
            "      7        \u001b[36m0.1925\u001b[0m        0.1428  0.8413\n",
            "      8        \u001b[36m0.1820\u001b[0m        \u001b[32m0.1280\u001b[0m  0.8512\n",
            "      9        \u001b[36m0.1739\u001b[0m        \u001b[32m0.1203\u001b[0m  0.8586\n",
            "     10        \u001b[36m0.1695\u001b[0m        \u001b[32m0.1191\u001b[0m  0.8671\n"
          ],
          "name": "stdout"
        }
      ]
    },
    {
      "cell_type": "code",
      "metadata": {
        "id": "n6tvumQfx7bM",
        "colab_type": "code",
        "colab": {
          "base_uri": "https://localhost:8080/",
          "height": 102
        },
        "outputId": "3d08b5f0-d247-4b8d-be62-aece4ba19fb1"
      },
      "source": [
        "net.set_params(max_epochs=5)\n",
        "_ = net.partial_fit(X_train, y_train)"
      ],
      "execution_count": 18,
      "outputs": [
        {
          "output_type": "stream",
          "text": [
            "     11        \u001b[36m0.1637\u001b[0m        \u001b[32m0.1173\u001b[0m  0.8628\n",
            "     12        \u001b[36m0.1585\u001b[0m        0.1176  0.8481\n",
            "     13        \u001b[36m0.1507\u001b[0m        0.1227  0.8377\n",
            "     14        0.1518        0.1213  0.8660\n",
            "     15        \u001b[36m0.1485\u001b[0m        \u001b[32m0.1170\u001b[0m  0.8635\n"
          ],
          "name": "stdout"
        }
      ]
    },
    {
      "cell_type": "markdown",
      "metadata": {
        "id": "hekEXe_yx7bO",
        "colab_type": "text"
      },
      "source": [
        "## History"
      ]
    },
    {
      "cell_type": "code",
      "metadata": {
        "id": "kn6Jyd6Cx7bO",
        "colab_type": "code",
        "colab": {
          "base_uri": "https://localhost:8080/",
          "height": 34
        },
        "outputId": "259b61d6-36bc-47e6-f5b9-c4c336b8f516"
      },
      "source": [
        "len(net.history)"
      ],
      "execution_count": 19,
      "outputs": [
        {
          "output_type": "execute_result",
          "data": {
            "text/plain": [
              "15"
            ]
          },
          "metadata": {
            "tags": []
          },
          "execution_count": 19
        }
      ]
    },
    {
      "cell_type": "code",
      "metadata": {
        "id": "_wc2Fa1Jx7bQ",
        "colab_type": "code",
        "colab": {
          "base_uri": "https://localhost:8080/",
          "height": 34
        },
        "outputId": "718d3dc3-f272-4292-8ba2-4917bea7e89b"
      },
      "source": [
        "net.history[-1, 'valid_loss']"
      ],
      "execution_count": 20,
      "outputs": [
        {
          "output_type": "execute_result",
          "data": {
            "text/plain": [
              "0.1169985074769883"
            ]
          },
          "metadata": {
            "tags": []
          },
          "execution_count": 20
        }
      ]
    },
    {
      "cell_type": "code",
      "metadata": {
        "id": "K6H9Bl2-x7bS",
        "colab_type": "code",
        "colab": {
          "base_uri": "https://localhost:8080/",
          "height": 34
        },
        "outputId": "55e94e79-ab0f-45e9-cc45-5b875cb349dd"
      },
      "source": [
        "net.history[-2:, 'train_loss']"
      ],
      "execution_count": 21,
      "outputs": [
        {
          "output_type": "execute_result",
          "data": {
            "text/plain": [
              "[0.15179336678414118, 0.14848752582640876]"
            ]
          },
          "metadata": {
            "tags": []
          },
          "execution_count": 21
        }
      ]
    },
    {
      "cell_type": "markdown",
      "metadata": {
        "id": "_Z7jxthpx7bU",
        "colab_type": "text"
      },
      "source": [
        "## Callbacks"
      ]
    },
    {
      "cell_type": "markdown",
      "metadata": {
        "id": "LEIY-j-Tx7bV",
        "colab_type": "text"
      },
      "source": [
        "### EpochScoring"
      ]
    },
    {
      "cell_type": "code",
      "metadata": {
        "id": "lM-TfcFhx7bV",
        "colab_type": "code",
        "colab": {
          "base_uri": "https://localhost:8080/",
          "height": 68
        },
        "outputId": "5c5ae6aa-aa92-4613-bb52-4749717993f6"
      },
      "source": [
        "y_pred = net.predict(X_test)\n",
        "print(y_pred.shape)\n",
        "print(y_pred[0, :])"
      ],
      "execution_count": 22,
      "outputs": [
        {
          "output_type": "stream",
          "text": [
            "(17500, 10)\n",
            "[-3.4358888 -2.0577073  3.7705815  6.779972  -9.432296   6.362274\n",
            " -7.0874496 -6.521524  13.821182  -2.024027 ]\n"
          ],
          "name": "stdout"
        }
      ]
    },
    {
      "cell_type": "code",
      "metadata": {
        "id": "stNbGk22x7bX",
        "colab_type": "code",
        "colab": {
          "base_uri": "https://localhost:8080/",
          "height": 34
        },
        "outputId": "473065c3-05bf-49fc-fe35-4a3e5e38b05c"
      },
      "source": [
        "def accuracy_argmax(y_true, y_pred):\n",
        "    return np.mean(y_true == np.argmax(y_pred, -1))\n",
        "\n",
        "print('test accuracy:', accuracy_argmax(y_test, y_pred))"
      ],
      "execution_count": 23,
      "outputs": [
        {
          "output_type": "stream",
          "text": [
            "test accuracy: 0.9639428571428571\n"
          ],
          "name": "stdout"
        }
      ]
    },
    {
      "cell_type": "code",
      "metadata": {
        "id": "JA_SLcSmx7bY",
        "colab_type": "code",
        "colab": {}
      },
      "source": [
        "from sklearn.metrics import make_scorer\n",
        "from skorch.callbacks import EpochScoring\n",
        "\n",
        "accuracy_argmax_scorer = make_scorer(accuracy_argmax)\n",
        "\n",
        "epoch_acc = EpochScoring(\n",
        "    accuracy_argmax_scorer,\n",
        "    name='valid_acc',\n",
        "    lower_is_better=False)"
      ],
      "execution_count": 0,
      "outputs": []
    },
    {
      "cell_type": "code",
      "metadata": {
        "id": "SvSl8PiHx7bZ",
        "colab_type": "code",
        "colab": {}
      },
      "source": [
        "net = NeuralNet(\n",
        "    SimpleFeedforward,\n",
        "    criterion=nn.CrossEntropyLoss,\n",
        "    max_epochs=10,\n",
        "    lr=0.3,\n",
        "    device='cuda',\n",
        "    callbacks=[epoch_acc]\n",
        ")"
      ],
      "execution_count": 0,
      "outputs": []
    },
    {
      "cell_type": "code",
      "metadata": {
        "id": "agGbjo8vx7ba",
        "colab_type": "code",
        "colab": {
          "base_uri": "https://localhost:8080/",
          "height": 221
        },
        "outputId": "f7e6e775-6266-482b-a1f7-2955b48348b3"
      },
      "source": [
        "_ = net.fit(X_train, y_train)"
      ],
      "execution_count": 26,
      "outputs": [
        {
          "output_type": "stream",
          "text": [
            "  epoch    train_loss    valid_acc    valid_loss     dur\n",
            "-------  ------------  -----------  ------------  ------\n",
            "      1        \u001b[36m0.5718\u001b[0m       \u001b[32m0.9059\u001b[0m        \u001b[35m0.3164\u001b[0m  0.8544\n",
            "      2        \u001b[36m0.3157\u001b[0m       \u001b[32m0.9167\u001b[0m        \u001b[35m0.2671\u001b[0m  0.8785\n",
            "      3        \u001b[36m0.2666\u001b[0m       \u001b[32m0.9476\u001b[0m        \u001b[35m0.1747\u001b[0m  0.9770\n",
            "      4        \u001b[36m0.2328\u001b[0m       0.9462        0.1766  0.8530\n",
            "      5        \u001b[36m0.2150\u001b[0m       \u001b[32m0.9544\u001b[0m        \u001b[35m0.1477\u001b[0m  0.8515\n",
            "      6        \u001b[36m0.1988\u001b[0m       \u001b[32m0.9560\u001b[0m        \u001b[35m0.1424\u001b[0m  0.8406\n",
            "      7        \u001b[36m0.1880\u001b[0m       \u001b[32m0.9617\u001b[0m        \u001b[35m0.1306\u001b[0m  0.8444\n",
            "      8        \u001b[36m0.1827\u001b[0m       \u001b[32m0.9634\u001b[0m        \u001b[35m0.1251\u001b[0m  0.8464\n",
            "      9        \u001b[36m0.1733\u001b[0m       0.9594        0.1353  0.8669\n",
            "     10        \u001b[36m0.1672\u001b[0m       \u001b[32m0.9665\u001b[0m        \u001b[35m0.1146\u001b[0m  0.8480\n"
          ],
          "name": "stdout"
        }
      ]
    },
    {
      "cell_type": "markdown",
      "metadata": {
        "id": "h2aItvhnx7bb",
        "colab_type": "text"
      },
      "source": [
        "## Integration with sklearn"
      ]
    },
    {
      "cell_type": "code",
      "metadata": {
        "id": "0GF8gij-x7bc",
        "colab_type": "code",
        "colab": {}
      },
      "source": [
        "from sklearn.pipeline import Pipeline\n",
        "from sklearn.preprocessing import MinMaxScaler"
      ],
      "execution_count": 0,
      "outputs": []
    },
    {
      "cell_type": "code",
      "metadata": {
        "id": "bmQbp65Hx7bc",
        "colab_type": "code",
        "colab": {}
      },
      "source": [
        "pipe = Pipeline([\n",
        "    ('min_max', MinMaxScaler()),\n",
        "    ('net', net)\n",
        "])"
      ],
      "execution_count": 0,
      "outputs": []
    },
    {
      "cell_type": "code",
      "metadata": {
        "id": "qlLFKQnPx7bd",
        "colab_type": "code",
        "colab": {
          "base_uri": "https://localhost:8080/",
          "height": 255
        },
        "outputId": "abde4a39-3ff9-4ad4-b2c3-580e84f6a6da"
      },
      "source": [
        "X_train, X_test, y_train, y_test = train_test_split(\n",
        "    X, y, test_size=0.25, random_state=42)\n",
        "_ = pipe.fit(X_train, y_train)"
      ],
      "execution_count": 29,
      "outputs": [
        {
          "output_type": "stream",
          "text": [
            "Re-initializing module.\n",
            "Re-initializing optimizer.\n",
            "  epoch    train_loss    valid_acc    valid_loss     dur\n",
            "-------  ------------  -----------  ------------  ------\n",
            "      1        \u001b[36m0.5807\u001b[0m       \u001b[32m0.8950\u001b[0m        \u001b[35m0.3468\u001b[0m  0.8920\n",
            "      2        \u001b[36m0.3228\u001b[0m       \u001b[32m0.9297\u001b[0m        \u001b[35m0.2228\u001b[0m  0.8956\n",
            "      3        \u001b[36m0.2658\u001b[0m       \u001b[32m0.9406\u001b[0m        \u001b[35m0.1939\u001b[0m  0.8913\n",
            "      4        \u001b[36m0.2445\u001b[0m       \u001b[32m0.9470\u001b[0m        \u001b[35m0.1662\u001b[0m  0.8910\n",
            "      5        \u001b[36m0.2205\u001b[0m       \u001b[32m0.9536\u001b[0m        \u001b[35m0.1539\u001b[0m  0.8898\n",
            "      6        \u001b[36m0.2066\u001b[0m       \u001b[32m0.9570\u001b[0m        \u001b[35m0.1403\u001b[0m  0.8917\n",
            "      7        \u001b[36m0.1953\u001b[0m       0.9524        0.1543  0.8990\n",
            "      8        \u001b[36m0.1887\u001b[0m       \u001b[32m0.9593\u001b[0m        \u001b[35m0.1346\u001b[0m  0.8918\n",
            "      9        \u001b[36m0.1772\u001b[0m       \u001b[32m0.9644\u001b[0m        \u001b[35m0.1187\u001b[0m  0.8893\n",
            "     10        \u001b[36m0.1741\u001b[0m       0.9634        0.1198  0.9026\n"
          ],
          "name": "stdout"
        }
      ]
    },
    {
      "cell_type": "code",
      "metadata": {
        "id": "bV1zyKX6x7be",
        "colab_type": "code",
        "colab": {}
      },
      "source": [
        "from sklearn.model_selection import GridSearchCV\n",
        "\n",
        "pipe.set_params(net__verbose=0)\n",
        "param_grid = {\n",
        "    'net__module__dropout': [0.2, 0.5, 0.8]\n",
        "}\n",
        "\n",
        "gs = GridSearchCV(pipe, param_grid, \n",
        "                  scoring=accuracy_argmax_scorer, \n",
        "                  cv=3, verbose=3)"
      ],
      "execution_count": 0,
      "outputs": []
    },
    {
      "cell_type": "code",
      "metadata": {
        "id": "scpe5_-tx7bf",
        "colab_type": "code",
        "colab": {
          "base_uri": "https://localhost:8080/",
          "height": 408
        },
        "outputId": "13573341-1c64-408f-f4ab-290b2f93a09e"
      },
      "source": [
        "_ = gs.fit(X, y)"
      ],
      "execution_count": 31,
      "outputs": [
        {
          "output_type": "stream",
          "text": [
            "Fitting 3 folds for each of 3 candidates, totalling 9 fits\n",
            "[CV] net__module__dropout=0.2 ........................................\n"
          ],
          "name": "stdout"
        },
        {
          "output_type": "stream",
          "text": [
            "[Parallel(n_jobs=1)]: Using backend SequentialBackend with 1 concurrent workers.\n"
          ],
          "name": "stderr"
        },
        {
          "output_type": "stream",
          "text": [
            "[CV] ............ net__module__dropout=0.2, score=0.965, total=  10.0s\n",
            "[CV] net__module__dropout=0.2 ........................................\n"
          ],
          "name": "stdout"
        },
        {
          "output_type": "stream",
          "text": [
            "[Parallel(n_jobs=1)]: Done   1 out of   1 | elapsed:   10.1s remaining:    0.0s\n"
          ],
          "name": "stderr"
        },
        {
          "output_type": "stream",
          "text": [
            "[CV] ............ net__module__dropout=0.2, score=0.963, total=   9.8s\n",
            "[CV] net__module__dropout=0.2 ........................................\n"
          ],
          "name": "stdout"
        },
        {
          "output_type": "stream",
          "text": [
            "[Parallel(n_jobs=1)]: Done   2 out of   2 | elapsed:   19.9s remaining:    0.0s\n"
          ],
          "name": "stderr"
        },
        {
          "output_type": "stream",
          "text": [
            "[CV] ............ net__module__dropout=0.2, score=0.969, total=   9.9s\n",
            "[CV] net__module__dropout=0.5 ........................................\n",
            "[CV] ............ net__module__dropout=0.5, score=0.962, total=   9.9s\n",
            "[CV] net__module__dropout=0.5 ........................................\n",
            "[CV] ............ net__module__dropout=0.5, score=0.955, total=   9.9s\n",
            "[CV] net__module__dropout=0.5 ........................................\n",
            "[CV] ............ net__module__dropout=0.5, score=0.966, total=  10.0s\n",
            "[CV] net__module__dropout=0.8 ........................................\n",
            "[CV] ............ net__module__dropout=0.8, score=0.938, total=   9.8s\n",
            "[CV] net__module__dropout=0.8 ........................................\n",
            "[CV] ............ net__module__dropout=0.8, score=0.932, total=   9.7s\n",
            "[CV] net__module__dropout=0.8 ........................................\n",
            "[CV] ............ net__module__dropout=0.8, score=0.943, total=   9.8s\n"
          ],
          "name": "stdout"
        },
        {
          "output_type": "stream",
          "text": [
            "[Parallel(n_jobs=1)]: Done   9 out of   9 | elapsed:  1.5min finished\n"
          ],
          "name": "stderr"
        }
      ]
    },
    {
      "cell_type": "code",
      "metadata": {
        "id": "Gp8MJQWdx7bh",
        "colab_type": "code",
        "colab": {
          "base_uri": "https://localhost:8080/",
          "height": 51
        },
        "outputId": "21a819f8-0327-4c66-a625-0d1959b315df"
      },
      "source": [
        "print(\"best score:\", gs.best_score_)\n",
        "print(\"best_params\", gs.best_params_)"
      ],
      "execution_count": 32,
      "outputs": [
        {
          "output_type": "stream",
          "text": [
            "best score: 0.9658714285714286\n",
            "best_params {'net__module__dropout': 0.2}\n"
          ],
          "name": "stdout"
        }
      ]
    }
  ]
}